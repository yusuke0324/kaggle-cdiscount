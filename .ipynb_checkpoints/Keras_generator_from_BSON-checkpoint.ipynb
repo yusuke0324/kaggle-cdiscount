{
 "cells": [
  {
   "cell_type": "code",
   "execution_count": 9,
   "metadata": {
    "collapsed": false
   },
   "outputs": [
    {
     "name": "stderr",
     "output_type": "stream",
     "text": [
      "Using TensorFlow backend.\n"
     ]
    }
   ],
   "source": [
    "import os, sys, math, io\n",
    "import numpy as np\n",
    "import pandas as pd\n",
    "import multiprocessing as mp\n",
    "import bson\n",
    "import struct\n",
    "\n",
    "%matplotlib inline\n",
    "import matplotlib.pyplot as pt\n",
    "\n",
    "import keras\n",
    "from keras.preprocessing.image import load_img, img_to_array\n",
    "import tensorflow as tf\n",
    "\n",
    "from collections import defaultdict\n",
    "from tqdm import *"
   ]
  },
  {
   "cell_type": "code",
   "execution_count": 10,
   "metadata": {
    "collapsed": false
   },
   "outputs": [],
   "source": [
    "data_dir = './data/'\n",
    "\n",
    "train_bson_path = os.path.join(data_dir, \"train.bson\")\n",
    "num_train_products = 7069896\n",
    "\n",
    "test_bson_path = os.path.join(data_dir, \"test.bson\")\n",
    "num_test_products = 1768172\n"
   ]
  },
  {
   "cell_type": "code",
   "execution_count": 12,
   "metadata": {
    "collapsed": false
   },
   "outputs": [
    {
     "data": {
      "text/html": [
       "<div>\n",
       "<table border=\"1\" class=\"dataframe\">\n",
       "  <thead>\n",
       "    <tr style=\"text-align: right;\">\n",
       "      <th></th>\n",
       "      <th>category_level1</th>\n",
       "      <th>category_level2</th>\n",
       "      <th>category_level3</th>\n",
       "      <th>category_idx</th>\n",
       "    </tr>\n",
       "    <tr>\n",
       "      <th>category_id</th>\n",
       "      <th></th>\n",
       "      <th></th>\n",
       "      <th></th>\n",
       "      <th></th>\n",
       "    </tr>\n",
       "  </thead>\n",
       "  <tbody>\n",
       "    <tr>\n",
       "      <th>1000021794</th>\n",
       "      <td>ABONNEMENT / SERVICES</td>\n",
       "      <td>CARTE PREPAYEE</td>\n",
       "      <td>CARTE PREPAYEE MULTIMEDIA</td>\n",
       "      <td>0</td>\n",
       "    </tr>\n",
       "    <tr>\n",
       "      <th>1000012764</th>\n",
       "      <td>AMENAGEMENT URBAIN - VOIRIE</td>\n",
       "      <td>AMENAGEMENT URBAIN</td>\n",
       "      <td>ABRI FUMEUR</td>\n",
       "      <td>1</td>\n",
       "    </tr>\n",
       "    <tr>\n",
       "      <th>1000012776</th>\n",
       "      <td>AMENAGEMENT URBAIN - VOIRIE</td>\n",
       "      <td>AMENAGEMENT URBAIN</td>\n",
       "      <td>ABRI VELO - ABRI MOTO</td>\n",
       "      <td>2</td>\n",
       "    </tr>\n",
       "    <tr>\n",
       "      <th>1000012768</th>\n",
       "      <td>AMENAGEMENT URBAIN - VOIRIE</td>\n",
       "      <td>AMENAGEMENT URBAIN</td>\n",
       "      <td>FONTAINE A EAU</td>\n",
       "      <td>3</td>\n",
       "    </tr>\n",
       "    <tr>\n",
       "      <th>1000012755</th>\n",
       "      <td>AMENAGEMENT URBAIN - VOIRIE</td>\n",
       "      <td>SIGNALETIQUE</td>\n",
       "      <td>PANNEAU D'INFORMATION EXTERIEUR</td>\n",
       "      <td>4</td>\n",
       "    </tr>\n",
       "  </tbody>\n",
       "</table>\n",
       "</div>"
      ],
      "text/plain": [
       "                         category_level1     category_level2  \\\n",
       "category_id                                                    \n",
       "1000021794         ABONNEMENT / SERVICES      CARTE PREPAYEE   \n",
       "1000012764   AMENAGEMENT URBAIN - VOIRIE  AMENAGEMENT URBAIN   \n",
       "1000012776   AMENAGEMENT URBAIN - VOIRIE  AMENAGEMENT URBAIN   \n",
       "1000012768   AMENAGEMENT URBAIN - VOIRIE  AMENAGEMENT URBAIN   \n",
       "1000012755   AMENAGEMENT URBAIN - VOIRIE        SIGNALETIQUE   \n",
       "\n",
       "                             category_level3  category_idx  \n",
       "category_id                                                 \n",
       "1000021794         CARTE PREPAYEE MULTIMEDIA             0  \n",
       "1000012764                       ABRI FUMEUR             1  \n",
       "1000012776             ABRI VELO - ABRI MOTO             2  \n",
       "1000012768                    FONTAINE A EAU             3  \n",
       "1000012755   PANNEAU D'INFORMATION EXTERIEUR             4  "
      ]
     },
     "execution_count": 12,
     "metadata": {},
     "output_type": "execute_result"
    }
   ],
   "source": [
    "categories_path = os.path.join(data_dir, \"category_names.csv\")\n",
    "categories_df = pd.read_csv(categories_path, index_col=\"category_id\")\n",
    "\n",
    "categories_df['category_idx'] = pd.Series(range(len(categories_df)), index=categories_df.index)\n",
    "categories_df.to_csv(\"categories.csv\")\n",
    "categories_df.head()"
   ]
  },
  {
   "cell_type": "code",
   "execution_count": 15,
   "metadata": {
    "collapsed": true
   },
   "outputs": [],
   "source": [
    "def make_category_tables():\n",
    "    cat2idx = {}\n",
    "    idx2cat = {}\n",
    "    for ir in categories_df.itertuples():\n",
    "        category_id = ir[0]\n",
    "        category_idx = ir[4]\n",
    "        cat2idx[category_id] = category_idx\n",
    "        idx2cat[category_idx] = category_id\n",
    "    return cat2idx, idx2cat"
   ]
  },
  {
   "cell_type": "code",
   "execution_count": 20,
   "metadata": {
    "collapsed": false
   },
   "outputs": [],
   "source": [
    "cat2idx, idx2cat = make_category_tables()"
   ]
  },
  {
   "cell_type": "code",
   "execution_count": 22,
   "metadata": {
    "collapsed": false
   },
   "outputs": [],
   "source": [
    "def read_bson(bson_path, num_records, with_categories):\n",
    "    rows = {}\n",
    "    with open(bson_path, \"rb\") as f, tqdm(total=num_records) as pbar:\n",
    "        offset = 0\n",
    "        while True:\n",
    "            item_length_bytes = f.read(4)\n",
    "            if len(item_length_bytes) == 0:\n",
    "                break\n",
    "                \n",
    "            length = struct.unpack(\"<i\", item_length_bytes)[0]\n",
    "            \n",
    "            f.seek(offset)\n",
    "            item_data = f.read(length)\n",
    "            assert len(item_data) == length\n",
    "            \n",
    "            item = bson.BSON.decode(item_data)\n",
    "            product_id = item['_id']\n",
    "            num_imgs = len(item['imgs'])\n",
    "            \n",
    "            row = [num_imgs, offset, length]\n",
    "            if with_categories:\n",
    "                row += [item[\"category_id\"]]\n",
    "            rows[product_id] = row\n",
    "            \n",
    "            offset += length\n",
    "            f.seek(offset)\n",
    "            pbar.update()\n",
    "            \n",
    "    columns = [\"num_imgs\", \"offset\", \"length\"]\n",
    "    if with_categories:\n",
    "        columns += [\"category_id\"]\n",
    "        \n",
    "    df = pd.DataFrame.from_dict(rows, orient=\"index\")\n",
    "    df.index.name = \"product_id\"\n",
    "    df.columns = columns\n",
    "    df.sort_index(inplace=True)\n",
    "    return df"
   ]
  },
  {
   "cell_type": "code",
   "execution_count": 23,
   "metadata": {
    "collapsed": false
   },
   "outputs": [
    {
     "name": "stderr",
     "output_type": "stream",
     "text": [
      "100%|██████████| 7069896/7069896 [08:27<00:00, 13940.57it/s]\n"
     ]
    },
    {
     "name": "stdout",
     "output_type": "stream",
     "text": [
      "CPU times: user 2min 53s, sys: 36.1 s, total: 3min 29s\n",
      "Wall time: 8min 42s\n"
     ]
    }
   ],
   "source": [
    "%time train_offsets_df = read_bson(train_bson_path, num_records=num_train_products, with_categories=True)"
   ]
  },
  {
   "cell_type": "code",
   "execution_count": 27,
   "metadata": {
    "collapsed": false
   },
   "outputs": [
    {
     "data": {
      "text/html": [
       "<div>\n",
       "<table border=\"1\" class=\"dataframe\">\n",
       "  <thead>\n",
       "    <tr style=\"text-align: right;\">\n",
       "      <th></th>\n",
       "      <th>num_imgs</th>\n",
       "      <th>offset</th>\n",
       "      <th>length</th>\n",
       "      <th>category_id</th>\n",
       "    </tr>\n",
       "    <tr>\n",
       "      <th>product_id</th>\n",
       "      <th></th>\n",
       "      <th></th>\n",
       "      <th></th>\n",
       "      <th></th>\n",
       "    </tr>\n",
       "  </thead>\n",
       "  <tbody>\n",
       "    <tr>\n",
       "      <th>0</th>\n",
       "      <td>1</td>\n",
       "      <td>0</td>\n",
       "      <td>6979</td>\n",
       "      <td>1000010653</td>\n",
       "    </tr>\n",
       "    <tr>\n",
       "      <th>1</th>\n",
       "      <td>1</td>\n",
       "      <td>6979</td>\n",
       "      <td>7318</td>\n",
       "      <td>1000010653</td>\n",
       "    </tr>\n",
       "    <tr>\n",
       "      <th>2</th>\n",
       "      <td>1</td>\n",
       "      <td>14297</td>\n",
       "      <td>5455</td>\n",
       "      <td>1000004079</td>\n",
       "    </tr>\n",
       "    <tr>\n",
       "      <th>3</th>\n",
       "      <td>1</td>\n",
       "      <td>19752</td>\n",
       "      <td>4580</td>\n",
       "      <td>1000004141</td>\n",
       "    </tr>\n",
       "    <tr>\n",
       "      <th>4</th>\n",
       "      <td>1</td>\n",
       "      <td>24332</td>\n",
       "      <td>6346</td>\n",
       "      <td>1000015539</td>\n",
       "    </tr>\n",
       "  </tbody>\n",
       "</table>\n",
       "</div>"
      ],
      "text/plain": [
       "            num_imgs  offset  length  category_id\n",
       "product_id                                       \n",
       "0                  1       0    6979   1000010653\n",
       "1                  1    6979    7318   1000010653\n",
       "2                  1   14297    5455   1000004079\n",
       "3                  1   19752    4580   1000004141\n",
       "4                  1   24332    6346   1000015539"
      ]
     },
     "execution_count": 27,
     "metadata": {},
     "output_type": "execute_result"
    }
   ],
   "source": [
    "train_offsets_df.head()"
   ]
  },
  {
   "cell_type": "code",
   "execution_count": 28,
   "metadata": {
    "collapsed": true
   },
   "outputs": [],
   "source": [
    "train_offsets_df.to_csv(\"train_offsets.csv\")"
   ]
  },
  {
   "cell_type": "code",
   "execution_count": 29,
   "metadata": {
    "collapsed": false
   },
   "outputs": [
    {
     "name": "stderr",
     "output_type": "stream",
     "text": [
      "1768182it [02:03, 14298.30it/s]                             \n"
     ]
    },
    {
     "name": "stdout",
     "output_type": "stream",
     "text": [
      "CPU times: user 39.8 s, sys: 8.09 s, total: 47.9 s\n",
      "Wall time: 2min 7s\n"
     ]
    }
   ],
   "source": [
    "%time test_offsets_df = read_bson(test_bson_path, num_records=num_test_products, with_categories=False)"
   ]
  },
  {
   "cell_type": "code",
   "execution_count": 30,
   "metadata": {
    "collapsed": false
   },
   "outputs": [
    {
     "data": {
      "text/html": [
       "<div>\n",
       "<table border=\"1\" class=\"dataframe\">\n",
       "  <thead>\n",
       "    <tr style=\"text-align: right;\">\n",
       "      <th></th>\n",
       "      <th>num_imgs</th>\n",
       "      <th>offset</th>\n",
       "      <th>length</th>\n",
       "    </tr>\n",
       "    <tr>\n",
       "      <th>product_id</th>\n",
       "      <th></th>\n",
       "      <th></th>\n",
       "      <th></th>\n",
       "    </tr>\n",
       "  </thead>\n",
       "  <tbody>\n",
       "    <tr>\n",
       "      <th>10</th>\n",
       "      <td>3</td>\n",
       "      <td>0</td>\n",
       "      <td>15826</td>\n",
       "    </tr>\n",
       "    <tr>\n",
       "      <th>14</th>\n",
       "      <td>1</td>\n",
       "      <td>15826</td>\n",
       "      <td>5589</td>\n",
       "    </tr>\n",
       "    <tr>\n",
       "      <th>21</th>\n",
       "      <td>1</td>\n",
       "      <td>21415</td>\n",
       "      <td>7544</td>\n",
       "    </tr>\n",
       "    <tr>\n",
       "      <th>24</th>\n",
       "      <td>1</td>\n",
       "      <td>28959</td>\n",
       "      <td>4855</td>\n",
       "    </tr>\n",
       "    <tr>\n",
       "      <th>27</th>\n",
       "      <td>1</td>\n",
       "      <td>33814</td>\n",
       "      <td>2921</td>\n",
       "    </tr>\n",
       "  </tbody>\n",
       "</table>\n",
       "</div>"
      ],
      "text/plain": [
       "            num_imgs  offset  length\n",
       "product_id                          \n",
       "10                 3       0   15826\n",
       "14                 1   15826    5589\n",
       "21                 1   21415    7544\n",
       "24                 1   28959    4855\n",
       "27                 1   33814    2921"
      ]
     },
     "execution_count": 30,
     "metadata": {},
     "output_type": "execute_result"
    }
   ],
   "source": [
    "test_offsets_df.head()"
   ]
  },
  {
   "cell_type": "code",
   "execution_count": 31,
   "metadata": {
    "collapsed": true
   },
   "outputs": [],
   "source": [
    "test_offsets_df.to_csv('etest_offsets.csv')"
   ]
  },
  {
   "cell_type": "markdown",
   "metadata": {},
   "source": [
    "### Create a random train/validation split"
   ]
  },
  {
   "cell_type": "code",
   "execution_count": null,
   "metadata": {
    "collapsed": false
   },
   "outputs": [],
   "source": [
    "def make_val_set(df, split_percentage=0.2, drop_percentage=0.):\n",
    "    #Find the product_ids for each category.\n",
    "    category_dict = defaultdict(list)\n",
    "    for ir in tqdm(df.itertuples()):\n",
    "        category_dict[ir[4]].append(ir[0])\n",
    "    \n",
    "    train_list = []\n",
    "    val_list = []\n",
    "    with tqdm(total=len(df)) as pbar:\n",
    "        for category_id, product_ids in category_dict.items():\n",
    "            category_idx = cat2idx[category_id]\n",
    "            \n",
    "            #Randomly remove products to make the dataset smaller.\n",
    "            keep_size = int(len(product_ids) * (1. - drop_percentage))\n",
    "            if keep_size < len(product_ids):\n",
    "                product_ids = np.random.choice(product_ids, keep_size, replace=False)\n",
    "                \n",
    "            #Randomly choose the prodcuts that become part of the validation set.\n",
    "            val_size = int(len(product_ids) * split_percentage)\n",
    "            if val_size > 0:\n",
    "                val_ids = np.random.choice(product_ids, val_size, replace=False)\n",
    "            else:\n",
    "                val_ids=[]\n",
    "                \n",
    "            #Create a new row for each images.\n",
    "            for product_id in product_ids:\n",
    "                row = [product_id, category_idx]\n",
    "                for img_idx in range(df.loc[product_id, \"num_imgs\"]):\n",
    "                    if product_id in val_ids:\n",
    "                        val_list.append(row + [img_idx])\n",
    "                    else:\n",
    "                        train_list.append(row + [img_idx])\n",
    "                pbar.udate()\n",
    "                            "
   ]
  },
  {
   "cell_type": "code",
   "execution_count": null,
   "metadata": {
    "collapsed": true
   },
   "outputs": [],
   "source": []
  }
 ],
 "metadata": {
  "anaconda-cloud": {},
  "kernelspec": {
   "display_name": "Python [Root]",
   "language": "python",
   "name": "Python [Root]"
  },
  "language_info": {
   "codemirror_mode": {
    "name": "ipython",
    "version": 3
   },
   "file_extension": ".py",
   "mimetype": "text/x-python",
   "name": "python",
   "nbconvert_exporter": "python",
   "pygments_lexer": "ipython3",
   "version": "3.5.2"
  }
 },
 "nbformat": 4,
 "nbformat_minor": 2
}
